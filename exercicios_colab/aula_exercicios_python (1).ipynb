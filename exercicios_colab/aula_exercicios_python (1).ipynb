{
  "cells": [
    {
      "cell_type": "markdown",
      "id": "7b6db2c9",
      "metadata": {
        "id": "7b6db2c9"
      },
      "source": [
        "## Exercício 1: Verifique se um número é positivo, negativo ou zero."
      ]
    },
    {
      "cell_type": "code",
      "source": [
        "# Tendo em mãos um relação de números enviada por um amigo.\n",
        "# Compare um número com outro, e separe em outra lista os que forem maior que zero.\n",
        "# Em outra lista os que são menor que zero .\n",
        "# Em outra lista os zero.\n",
        "\n",
        "num = int(input('Digite um número: '))\n",
        "if num > 0:\n",
        " print('Positivo')\n",
        "elif num < 0:\n",
        " print('Negativo')\n",
        "else:\n",
        " print('Zero')\n"
      ],
      "metadata": {
        "colab": {
          "base_uri": "https://localhost:8080/"
        },
        "id": "PF9Y7ukihIRF",
        "outputId": "092554c8-9342-4996-f357-acef7a88377d"
      },
      "id": "PF9Y7ukihIRF",
      "execution_count": null,
      "outputs": [
        {
          "output_type": "stream",
          "name": "stdout",
          "text": [
            "Digite um número: 11\n",
            "Positivo\n"
          ]
        }
      ]
    },
    {
      "cell_type": "markdown",
      "id": "70afdbb7",
      "metadata": {
        "id": "70afdbb7"
      },
      "source": [
        "## Exercício 2: Peça dois números e exiba o maior."
      ]
    },
    {
      "cell_type": "code",
      "source": [
        "num1 = int(input('Digite o primeiro número:'))\n",
        "num2 = int(input('Digite o segundo número:'))\n",
        "if num1 > num2:\n",
        "  print('O número maior é: ', num1)\n",
        "elif num1 == num2:\n",
        "  print('Os números são iguais')\n",
        "else:\n",
        "  print('Onúmero maioe é: ', num2)\n",
        "\n",
        "\n",
        "\n"
      ],
      "metadata": {
        "id": "Keso7zFKzQ-M",
        "colab": {
          "base_uri": "https://localhost:8080/"
        },
        "outputId": "08308334-01e2-4c9c-924f-a958abd12a90"
      },
      "id": "Keso7zFKzQ-M",
      "execution_count": null,
      "outputs": [
        {
          "output_type": "stream",
          "name": "stdout",
          "text": [
            "Digite o primeiro número:5\n",
            "Digite o segundo número:1\n",
            "O número maior é:  5\n"
          ]
        }
      ]
    },
    {
      "cell_type": "code",
      "source": [
        "#"
      ],
      "metadata": {
        "id": "qO1npGEDlZ6E"
      },
      "id": "qO1npGEDlZ6E",
      "execution_count": null,
      "outputs": []
    },
    {
      "cell_type": "markdown",
      "id": "36fc3988",
      "metadata": {
        "id": "36fc3988"
      },
      "source": [
        "## Exercício 3: Verifique se um número é par ou ímpar."
      ]
    },
    {
      "cell_type": "code",
      "source": [
        "num1 = int(input('Digite um número: '))\n",
        "if num1 % 2 == 0:\n",
        "   print('par')\n",
        "else:\n",
        "   print('Impar')"
      ],
      "metadata": {
        "colab": {
          "base_uri": "https://localhost:8080/"
        },
        "id": "zjT91ojH09VL",
        "outputId": "9befc62a-41ba-4447-dd36-f51d9900a13c"
      },
      "id": "zjT91ojH09VL",
      "execution_count": null,
      "outputs": [
        {
          "output_type": "stream",
          "name": "stdout",
          "text": [
            "Digite um número: 5\n",
            "Impar\n"
          ]
        }
      ]
    },
    {
      "cell_type": "code",
      "source": [
        "# Pegue o número e divida por 2 se não sobrar resto é par."
      ],
      "metadata": {
        "id": "7SYjfGvsnDhF"
      },
      "id": "7SYjfGvsnDhF",
      "execution_count": null,
      "outputs": []
    },
    {
      "cell_type": "markdown",
      "id": "f0288374",
      "metadata": {
        "id": "f0288374"
      },
      "source": [
        "## Exercício 4: Verifique se um ano é bissexto."
      ]
    },
    {
      "cell_type": "code",
      "source": [
        "ano = int(input('Digite um ano com 4 dígitos: '))\n",
        "if (ano % 4 == 0 and ano % 100 != 0) or ano % 400 == 0:\n",
        "   print('É bissexto')\n",
        "else:\n",
        "   print('Não é bissexto')"
      ],
      "metadata": {
        "colab": {
          "base_uri": "https://localhost:8080/"
        },
        "id": "tYn-tLLu2kA3",
        "outputId": "47f4a536-e15f-40cb-854b-6dd5f60b99db"
      },
      "id": "tYn-tLLu2kA3",
      "execution_count": null,
      "outputs": [
        {
          "output_type": "stream",
          "name": "stdout",
          "text": [
            "Digite um ano com 4 dígitos: 2025\n",
            "Não é bissexto\n"
          ]
        }
      ]
    },
    {
      "cell_type": "code",
      "source": [],
      "metadata": {
        "id": "C6B2nmf95LZ3"
      },
      "id": "C6B2nmf95LZ3",
      "execution_count": null,
      "outputs": []
    },
    {
      "cell_type": "markdown",
      "id": "970dae23",
      "metadata": {
        "id": "970dae23"
      },
      "source": [
        "## Exercício 5: Peça três números e exiba o maior."
      ]
    },
    {
      "cell_type": "code",
      "source": [
        "num1 = int(input('Digite o primeiro número:'))\n",
        "num2 = int(input('Digite o segundo número:'))\n",
        "num3 = int(input('Digite o terceiro número:'))\n",
        "print('O maior número é', max(num1, num2, num3))\n",
        "\n"
      ],
      "metadata": {
        "colab": {
          "base_uri": "https://localhost:8080/"
        },
        "id": "57EpFzJn5NOV",
        "outputId": "2fc6fe63-24bd-4f98-8a16-cdca4527442a"
      },
      "id": "57EpFzJn5NOV",
      "execution_count": null,
      "outputs": [
        {
          "output_type": "stream",
          "name": "stdout",
          "text": [
            "Digite o primeiro número:357\n",
            "Digite o segundo número:249\n",
            "Digite o terceiro número:637\n",
            "O maior número é 637\n"
          ]
        }
      ]
    },
    {
      "cell_type": "markdown",
      "id": "f7950b6a",
      "metadata": {
        "id": "f7950b6a"
      },
      "source": [
        "## Exercício 6: Verifique se um usuário pode votar (idade >= 18)."
      ]
    },
    {
      "cell_type": "code",
      "source": [
        "num = int(input('Informe a idade: '))\n",
        "if num1 >=18:\n",
        "  print('Pode votar')\n",
        "else :\n",
        "  print('Não pode votar')"
      ],
      "metadata": {
        "colab": {
          "base_uri": "https://localhost:8080/"
        },
        "id": "FXcI8RjP8Hmz",
        "outputId": "742a9751-bd17-463e-8993-1f0516d0a3a3"
      },
      "id": "FXcI8RjP8Hmz",
      "execution_count": null,
      "outputs": [
        {
          "output_type": "stream",
          "name": "stdout",
          "text": [
            "Informe a idade: 28\n",
            "Pode votar\n"
          ]
        }
      ]
    },
    {
      "cell_type": "markdown",
      "source": [
        "## Exercício 7: Verifique se já posso ir embora da aula de Análise de Dados sem assinar a folha."
      ],
      "metadata": {
        "id": "vI3rAnHNMp8m"
      },
      "id": "vI3rAnHNMp8m"
    },
    {
      "cell_type": "code",
      "source": [
        "from datetime import datetime, time\n",
        "\n",
        "print(datetime.now().time())\n",
        "if datetime.now().time() >= time(00,45,0):\n",
        "  print('Pode')\n",
        "else:\n",
        "  print('Não pode')"
      ],
      "metadata": {
        "colab": {
          "base_uri": "https://localhost:8080/"
        },
        "id": "rA0BAqLk9-3w",
        "outputId": "e6415e9a-6546-4448-be9c-fef7249580a1"
      },
      "id": "rA0BAqLk9-3w",
      "execution_count": null,
      "outputs": [
        {
          "output_type": "stream",
          "name": "stdout",
          "text": [
            "00:48:08.305398\n",
            "Pode\n"
          ]
        }
      ]
    },
    {
      "cell_type": "markdown",
      "id": "d6b4f5ae",
      "metadata": {
        "id": "d6b4f5ae"
      },
      "source": [
        "## Exercício 8: Verifique se uma senha digitada corresponde a '1234'."
      ]
    },
    {
      "cell_type": "code",
      "source": [
        "senha = input('Digite a senha:')\n",
        "if senha == '1234':\n",
        "  print('Senha correta !')\n",
        "else:\n",
        "  print('Senha incorreta')\n",
        "\n"
      ],
      "metadata": {
        "id": "WTq-B1cfTr94",
        "colab": {
          "base_uri": "https://localhost:8080/"
        },
        "outputId": "082f6a04-9339-434f-f91a-5f7cded8ad88"
      },
      "id": "WTq-B1cfTr94",
      "execution_count": null,
      "outputs": [
        {
          "output_type": "stream",
          "name": "stdout",
          "text": [
            "Digite a senha:1234\n",
            "Senha correta !\n"
          ]
        }
      ]
    },
    {
      "cell_type": "code",
      "source": [
        "\n"
      ],
      "metadata": {
        "id": "1zmR6XrTSKNP"
      },
      "id": "1zmR6XrTSKNP",
      "execution_count": null,
      "outputs": []
    },
    {
      "cell_type": "markdown",
      "id": "b3b40b44",
      "metadata": {
        "id": "b3b40b44"
      },
      "source": [
        "## Exercício 9: Verifique se um número está entre 10 e 50."
      ]
    },
    {
      "cell_type": "code",
      "source": [
        "num = int(input('Digite um número:'))\n",
        "if num >= 10 and num <= 50:\n",
        "  print('Está entre 10 e 50')´\n"
      ],
      "metadata": {
        "id": "vN8I4eC3jgEK"
      },
      "id": "vN8I4eC3jgEK",
      "execution_count": null,
      "outputs": []
    },
    {
      "cell_type": "markdown",
      "id": "026219a5",
      "metadata": {
        "id": "026219a5"
      },
      "source": [
        "## Exercício 10: Peça ao usuário um número e exiba 'Alto' se for maior que 100 e 'Baixo' se for menor."
      ]
    },
    {
      "cell_type": "code",
      "source": [
        "valor = int(input('Informe um número:'))\n",
        "if valor > 100:\n",
        "  print('Alto')\n",
        "else:\n",
        "  print('Baixo')\n"
      ],
      "metadata": {
        "id": "WOnWo9UYk7Z8"
      },
      "id": "WOnWo9UYk7Z8",
      "execution_count": null,
      "outputs": []
    },
    {
      "cell_type": "markdown",
      "id": "d329e93a",
      "metadata": {
        "id": "d329e93a"
      },
      "source": [
        "## Exercício 11: Crie um menu onde o usuário pode escolher entre somar, subtrair, multiplicar e dividir dois números."
      ]
    },
    {
      "cell_type": "code",
      "source": [
        "def operacao(op, a, b):\n",
        "  return {\n",
        "      '1': a + b,\n",
        "      '2': a - b,\n",
        "      '3': a * b,\n",
        "      '4': a / b if b != 0 else 'Divisão por zero não aceita'\n",
        "  }.get(op, 'Operação inválida!')\n",
        "\n",
        "op=input('Escolha: 1-Soma, 2-Sub, 3-Mult, 4-Div')\n",
        "a, b = map(int, input('Digite dois números: ').split())\n",
        "print('Resultado:', operacao(op, a, b))\n",
        "\n",
        "\n",
        "\n",
        "\n",
        "\n"
      ],
      "metadata": {
        "colab": {
          "base_uri": "https://localhost:8080/"
        },
        "id": "3zQEQuiPmCU0",
        "outputId": "afaa32a4-7e69-4d43-9a6d-b362b7c76493"
      },
      "id": "3zQEQuiPmCU0",
      "execution_count": null,
      "outputs": [
        {
          "output_type": "stream",
          "name": "stdout",
          "text": [
            "Escolha: 1-Soma, 2-Sub, 3-Mult, 4-Div1\n",
            "Digite dois números: 1 1\n",
            "Resultado: 2\n"
          ]
        }
      ]
    },
    {
      "cell_type": "markdown",
      "id": "185590d4",
      "metadata": {
        "id": "185590d4"
      },
      "source": [
        "## Exercício 12: Crie um menu para converter temperaturas entre Celsius, Fahrenheit e Kelvin."
      ]
    },
    {
      "cell_type": "code",
      "source": [
        "def temperatura(op, t):\n",
        "  return {\n",
        "      '1': (t * 9/5) + 32,\n",
        "      '2': t + 273.15\n",
        "  }.get(op, 'Opção inválida')\n",
        "\n",
        "op= input('Digite a conversão desejada: 1-Celsius para Fahrenheit, 2-Celsius para Kelvin:')\n",
        "t = float(input('Digite a temperatura Celsius: '))\n",
        "print('Temperatura convertida: ', temperatura(op, t))\n"
      ],
      "metadata": {
        "colab": {
          "base_uri": "https://localhost:8080/"
        },
        "id": "3PVO0RQUrXov",
        "outputId": "36095137-d670-4948-f79e-6096fae8a2a7"
      },
      "id": "3PVO0RQUrXov",
      "execution_count": null,
      "outputs": [
        {
          "output_type": "stream",
          "name": "stdout",
          "text": [
            "Digite a conversão desejada: 1-Celsius para Fahrenheit, 2-Celsius para Kelvin:1\n",
            "Digite a temperatura Celsius: 15\n",
            "Temperatura convertida:  59.0\n"
          ]
        }
      ]
    },
    {
      "cell_type": "markdown",
      "id": "f8254fda",
      "metadata": {
        "id": "f8254fda"
      },
      "source": [
        "## Exercício 13: Crie um programa que traduza números de 1 a 5 para palavras (1 = um, 2 = dois...)."
      ]
    },
    {
      "cell_type": "code",
      "source": [
        "op =input('Digite um número de 1 a 5:')\n",
        "print({\n",
        "    '1': 'um',\n",
        "    '2': 'dois',\n",
        "    '3': 'três',\n",
        "    '4': 'quatro',\n",
        "    '5': 'cinco',\n",
        "}.get(op, 'Opção inválida'))\n",
        "\n"
      ],
      "metadata": {
        "colab": {
          "base_uri": "https://localhost:8080/"
        },
        "id": "0dRRpf668GRt",
        "outputId": "10b388df-1317-4d6d-e13e-6f82952570d6"
      },
      "id": "0dRRpf668GRt",
      "execution_count": null,
      "outputs": [
        {
          "output_type": "stream",
          "name": "stdout",
          "text": [
            "Digite um número de 1 a 5:4\n",
            "quatro\n"
          ]
        }
      ]
    },
    {
      "cell_type": "markdown",
      "id": "1479a2ad",
      "metadata": {
        "id": "1479a2ad"
      },
      "source": [
        "## Exercício 14: Crie um menu onde o usuário pode escolher entre exibir a data, hora ou sair."
      ]
    },
    {
      "cell_type": "code",
      "source": [
        "from datetime import datetime, time, date\n",
        "\n",
        "\n",
        "op = input('1-Data\\n2-Hora\\n3-Sair\\nEscolha uma das opções: ')\n",
        "print({\n",
        "    '1': datetime.now().date(),\n",
        "    '2': datetime.now().time(),\n",
        "    '3': 'Saindo'\n",
        "}.get(op, 'Opção inválida'))\n",
        "\n",
        "\n"
      ],
      "metadata": {
        "colab": {
          "base_uri": "https://localhost:8080/"
        },
        "id": "GCuz1l8p_-Rm",
        "outputId": "6bf2e883-e9c8-451d-dd88-4e0e357f281d"
      },
      "id": "GCuz1l8p_-Rm",
      "execution_count": null,
      "outputs": [
        {
          "output_type": "stream",
          "name": "stdout",
          "text": [
            "1-Data\n",
            "2-Hora\n",
            "3-Sair\n",
            "Escolha uma das opções: 3\n",
            "Saindo\n"
          ]
        }
      ]
    },
    {
      "cell_type": "markdown",
      "id": "49ca94fd",
      "metadata": {
        "id": "49ca94fd"
      },
      "source": [
        "## Exercício 15: Implemente um programa que identifica o dia da semana baseado em um número (1 = Segunda, 7 = Domingo)."
      ]
    },
    {
      "cell_type": "code",
      "source": [
        "op= input('Digite um número de 1 a 7')\n",
        "print({\n",
        "    '1': 'Segunda',\n",
        "    '2': 'Terça',\n",
        "    '3': 'Quarta',\n",
        "    '4': 'Quinta',\n",
        "    '5': 'Sexta',\n",
        "    '6': 'Sábado',\n",
        "    '7': 'Domingo',\n",
        "}.get(op, 'Opção inválida'))\n"
      ],
      "metadata": {
        "colab": {
          "base_uri": "https://localhost:8080/"
        },
        "id": "RdYrlzY9DY1e",
        "outputId": "50f8c74e-84f0-4f87-f55a-7ac6c1904304"
      },
      "id": "RdYrlzY9DY1e",
      "execution_count": null,
      "outputs": [
        {
          "output_type": "stream",
          "name": "stdout",
          "text": [
            "Digite um número de 1 a 76\n",
            "Sábado\n"
          ]
        }
      ]
    },
    {
      "cell_type": "markdown",
      "id": "7f1b4a1e",
      "metadata": {
        "id": "7f1b4a1e"
      },
      "source": [
        "## Exercício 16: Verifique se um número é par ou ímpar usando if ternário."
      ]
    },
    {
      "cell_type": "code",
      "source": [
        "num = int(input('Informe um número: '))\n",
        "print('Par' if num % 2 == 0 else 'Impar')"
      ],
      "metadata": {
        "colab": {
          "base_uri": "https://localhost:8080/"
        },
        "id": "TxU5pTYQFiFm",
        "outputId": "164730ed-adfd-4ecb-c4bb-9514a23afcb5"
      },
      "id": "TxU5pTYQFiFm",
      "execution_count": null,
      "outputs": [
        {
          "output_type": "stream",
          "name": "stdout",
          "text": [
            "Informe um número: 8\n",
            "Par\n"
          ]
        }
      ]
    },
    {
      "cell_type": "markdown",
      "id": "4b647778",
      "metadata": {
        "id": "4b647778"
      },
      "source": [
        "## Exercício 17: Verifique se um número é positivo ou negativo usando if ternário."
      ]
    },
    {
      "cell_type": "code",
      "source": [
        "num = int(input('Informe um número: '))\n",
        "print('Positivo' if num > 0 else 'Negativo')"
      ],
      "metadata": {
        "colab": {
          "base_uri": "https://localhost:8080/"
        },
        "id": "vx3hs7ZXHT9L",
        "outputId": "b27bf5a3-5a43-4c8f-d2c5-0785ff372785"
      },
      "id": "vx3hs7ZXHT9L",
      "execution_count": null,
      "outputs": [
        {
          "output_type": "stream",
          "name": "stdout",
          "text": [
            "Informe um número: 5\n",
            "Positivo\n"
          ]
        }
      ]
    },
    {
      "cell_type": "markdown",
      "id": "a6ed0e6f",
      "metadata": {
        "id": "a6ed0e6f"
      },
      "source": [
        "## Exercício 18: Retorne 'Adulto' se a idade for maior ou igual a 18, senão 'Menor de idade'."
      ]
    },
    {
      "cell_type": "code",
      "source": [
        "num = int(input('Informe a idade: '))\n",
        "print('Adulto' if num > 0 else 'Menor de idade')"
      ],
      "metadata": {
        "colab": {
          "base_uri": "https://localhost:8080/"
        },
        "id": "fbnslNMYItJa",
        "outputId": "683736e2-0834-4e67-f5f2-fc2b76748f27"
      },
      "id": "fbnslNMYItJa",
      "execution_count": null,
      "outputs": [
        {
          "output_type": "stream",
          "name": "stdout",
          "text": [
            "Informe a idade: 25\n",
            "Adulto\n"
          ]
        }
      ]
    },
    {
      "cell_type": "markdown",
      "id": "354ae09c",
      "metadata": {
        "id": "354ae09c"
      },
      "source": [
        "## Exercício 19: Verifique se um número é maior que 100 e retorne 'Grande' ou 'Pequeno'."
      ]
    },
    {
      "cell_type": "code",
      "source": [
        "num = int(input('Informe um número: '))\n",
        "print('Grande' if num > 100 else 'Pequeno')"
      ],
      "metadata": {
        "colab": {
          "base_uri": "https://localhost:8080/"
        },
        "id": "oY7431v4JczL",
        "outputId": "636ccc8a-4050-4eaa-a2da-56716e373052"
      },
      "id": "oY7431v4JczL",
      "execution_count": null,
      "outputs": [
        {
          "output_type": "stream",
          "name": "stdout",
          "text": [
            "Informe um número: 11\n",
            "Pequeno\n"
          ]
        }
      ]
    },
    {
      "cell_type": "markdown",
      "id": "dc89b94f",
      "metadata": {
        "id": "dc89b94f"
      },
      "source": [
        "## Exercício 20: Retorne 'Aprovado' se a nota for maior ou igual a 7, senão 'Reprovado'."
      ]
    },
    {
      "cell_type": "code",
      "source": [
        "num = int(input('Informe um número: '))\n",
        "print('Aprovado' if num >= 7 else 'Reprovado')"
      ],
      "metadata": {
        "colab": {
          "base_uri": "https://localhost:8080/"
        },
        "id": "_kv7vT-oJ_iy",
        "outputId": "f69c14c8-cc74-4214-96b8-35fbda4fd996"
      },
      "id": "_kv7vT-oJ_iy",
      "execution_count": null,
      "outputs": [
        {
          "output_type": "stream",
          "name": "stdout",
          "text": [
            "Informe um número: 7\n",
            "Aprovado\n"
          ]
        }
      ]
    },
    {
      "cell_type": "markdown",
      "id": "58cdaa42",
      "metadata": {
        "id": "58cdaa42"
      },
      "source": [
        "## Exercício 21: Imprima os números de 1 a 10 usando um laço for."
      ]
    },
    {
      "cell_type": "code",
      "source": [
        "for i in range(1, 11):\n",
        "  print(i)"
      ],
      "metadata": {
        "colab": {
          "base_uri": "https://localhost:8080/"
        },
        "id": "aEEdrmQdKdjr",
        "outputId": "b293bd39-66fb-4e00-fe29-735720e534c9"
      },
      "id": "aEEdrmQdKdjr",
      "execution_count": null,
      "outputs": [
        {
          "output_type": "stream",
          "name": "stdout",
          "text": [
            "1\n",
            "2\n",
            "3\n",
            "4\n",
            "5\n",
            "6\n",
            "7\n",
            "8\n",
            "9\n",
            "10\n"
          ]
        }
      ]
    },
    {
      "cell_type": "markdown",
      "id": "ee76ef90",
      "metadata": {
        "id": "ee76ef90"
      },
      "source": [
        "## Exercício 22: Imprima os números pares de 1 a 20."
      ]
    },
    {
      "cell_type": "code",
      "source": [
        "for i in range(2, 21, 2):\n",
        "  print(i)"
      ],
      "metadata": {
        "colab": {
          "base_uri": "https://localhost:8080/"
        },
        "id": "BR--Z7CrLHES",
        "outputId": "69a7e5da-b7ee-4ee7-ce3e-af8e0e2aa12c"
      },
      "id": "BR--Z7CrLHES",
      "execution_count": null,
      "outputs": [
        {
          "output_type": "stream",
          "name": "stdout",
          "text": [
            "2\n",
            "4\n",
            "6\n",
            "8\n",
            "10\n",
            "12\n",
            "14\n",
            "16\n",
            "18\n",
            "20\n"
          ]
        }
      ]
    },
    {
      "cell_type": "markdown",
      "id": "b482d8a2",
      "metadata": {
        "id": "b482d8a2"
      },
      "source": [
        "## Exercício 23: Calcule a soma dos números de 1 a 100."
      ]
    },
    {
      "cell_type": "code",
      "source": [
        " num = 0\n",
        " for i in range(1, 101):\n",
        "   num += i\n",
        "print(num)\n",
        "\n",
        "\n",
        "\n",
        "\n",
        "\n"
      ],
      "metadata": {
        "colab": {
          "base_uri": "https://localhost:8080/"
        },
        "id": "cfVJLFdSLpYT",
        "outputId": "f500c380-d362-4837-8507-2ee8b458e82c"
      },
      "id": "cfVJLFdSLpYT",
      "execution_count": null,
      "outputs": [
        {
          "output_type": "stream",
          "name": "stdout",
          "text": [
            "5050\n"
          ]
        }
      ]
    },
    {
      "cell_type": "markdown",
      "id": "07ad69f1",
      "metadata": {
        "id": "07ad69f1"
      },
      "source": [
        "## Exercício 24: Imprima a tabuada do 5."
      ]
    },
    {
      "cell_type": "code",
      "source": [
        "for i in range(1, 11):\n",
        "    print(f\"5 x {i} = {5 * i}\")"
      ],
      "metadata": {
        "colab": {
          "base_uri": "https://localhost:8080/"
        },
        "id": "YEpBRIO28u0W",
        "outputId": "4d3f8b17-9865-4f04-b408-df5fca2fae24"
      },
      "id": "YEpBRIO28u0W",
      "execution_count": null,
      "outputs": [
        {
          "output_type": "stream",
          "name": "stdout",
          "text": [
            "5 x 1 = 5\n",
            "5 x 2 = 10\n",
            "5 x 3 = 15\n",
            "5 x 4 = 20\n",
            "5 x 5 = 25\n",
            "5 x 6 = 30\n",
            "5 x 7 = 35\n",
            "5 x 8 = 40\n",
            "5 x 9 = 45\n",
            "5 x 10 = 50\n"
          ]
        }
      ]
    },
    {
      "cell_type": "markdown",
      "id": "f4513a53",
      "metadata": {
        "id": "f4513a53"
      },
      "source": [
        "## Exercício 25: Imprima os 10 primeiros números da sequência de Fibonacci."
      ]
    },
    {
      "cell_type": "code",
      "source": [
        "n1, n2 = 0, 1\n",
        "print(n1)\n",
        "print(n2)\n",
        "for _ in range(8):  # Já imprimimos os dois primeiros números\n",
        "    n3 = n1 + n2\n",
        "    print(n3)\n",
        "    n1, n2 = n2, n3\n"
      ],
      "metadata": {
        "colab": {
          "base_uri": "https://localhost:8080/"
        },
        "id": "3bNSfxbv86MV",
        "outputId": "eacf6c2e-f4fc-4926-aaa8-ab83b5791835"
      },
      "id": "3bNSfxbv86MV",
      "execution_count": null,
      "outputs": [
        {
          "output_type": "stream",
          "name": "stdout",
          "text": [
            "0\n",
            "1\n",
            "1\n",
            "2\n",
            "3\n",
            "5\n",
            "8\n",
            "13\n",
            "21\n",
            "34\n"
          ]
        }
      ]
    },
    {
      "cell_type": "markdown",
      "id": "859ddee6",
      "metadata": {
        "id": "859ddee6"
      },
      "source": [
        "## Exercício 26: Percorra uma string e imprima cada caractere."
      ]
    },
    {
      "cell_type": "code",
      "source": [
        "string = \"Residencia_Serratec\"\n",
        "for char in string:\n",
        "    print(char)\n"
      ],
      "metadata": {
        "colab": {
          "base_uri": "https://localhost:8080/"
        },
        "id": "0fIQOw0298rl",
        "outputId": "a59ccc2e-ed27-4acc-d92a-b716b0c707d0"
      },
      "id": "0fIQOw0298rl",
      "execution_count": null,
      "outputs": [
        {
          "output_type": "stream",
          "name": "stdout",
          "text": [
            "R\n",
            "e\n",
            "s\n",
            "i\n",
            "d\n",
            "e\n",
            "n\n",
            "c\n",
            "i\n",
            "a\n",
            "_\n",
            "S\n",
            "e\n",
            "r\n",
            "r\n",
            "a\n",
            "t\n",
            "e\n",
            "c\n"
          ]
        }
      ]
    },
    {
      "cell_type": "markdown",
      "id": "f2e48a7b",
      "metadata": {
        "id": "f2e48a7b"
      },
      "source": [
        "## Exercício 27: Crie um programa que peça um número e imprima sua contagem regressiva até 0."
      ]
    },
    {
      "cell_type": "code",
      "source": [
        "num = int(input('Digite um numero: '))\n",
        "for i in range(num, -1, -1):\n",
        "  print(i)\n"
      ],
      "metadata": {
        "colab": {
          "base_uri": "https://localhost:8080/"
        },
        "id": "qsfhiBB-swi0",
        "outputId": "3b5d8133-3928-41d6-ac64-0210dab342b5"
      },
      "id": "qsfhiBB-swi0",
      "execution_count": null,
      "outputs": [
        {
          "output_type": "stream",
          "name": "stdout",
          "text": [
            "Digite um numero: 11\n",
            "11\n",
            "10\n",
            "9\n",
            "8\n",
            "7\n",
            "6\n",
            "5\n",
            "4\n",
            "3\n",
            "2\n",
            "1\n",
            "0\n"
          ]
        }
      ]
    },
    {
      "cell_type": "markdown",
      "id": "1ffc8d99",
      "metadata": {
        "id": "1ffc8d99"
      },
      "source": [
        "## Exercício 28: Crie um programa que solicite 5 números ao usuário e exiba a soma deles."
      ]
    },
    {
      "cell_type": "code",
      "source": [
        "num1 = int(input('Digite o primeiro número:'))\n",
        "num2 = int(input('Digite o segundo número:'))\n",
        "num3 = int(input('Digite o terceiro número:'))\n",
        "num4 = int(input('Digite o quarto número:'))\n",
        "num5 = int(input('Digite o quinto número:'))\n",
        "print('A soma total é:', num1 + num2 + num3 + num4 + num5 )"
      ],
      "metadata": {
        "colab": {
          "base_uri": "https://localhost:8080/"
        },
        "id": "XRYvvQdiqmyU",
        "outputId": "5bbc8bea-6980-4c3b-8785-adeaf9e481ed"
      },
      "id": "XRYvvQdiqmyU",
      "execution_count": null,
      "outputs": [
        {
          "output_type": "stream",
          "name": "stdout",
          "text": [
            "Digite o primeiro número:1\n",
            "Digite o segundo número:2\n",
            "Digite o terceiro número:3\n",
            "Digite o quarto número:4\n",
            "Digite o quinto número:5\n",
            "A soma total é: 15\n"
          ]
        }
      ]
    },
    {
      "cell_type": "markdown",
      "id": "603fbc7a",
      "metadata": {
        "id": "603fbc7a"
      },
      "source": [
        "## Exercício 29: Imprima todas as vogais de uma string digitada pelo usuário."
      ]
    },
    {
      "cell_type": "code",
      "source": [
        "#Variavél inicial.\n",
        "string = input('Digite uma string: ')\n",
        "vogais = 'aeiouAEIOU'\n",
        "#Variavél de cálculo.\n",
        "for letra in string:\n",
        "  if letra in vogais:\n",
        "    print(letra)\n"
      ],
      "metadata": {
        "colab": {
          "base_uri": "https://localhost:8080/"
        },
        "id": "jymBMgyhr5ui",
        "outputId": "da40e53e-5962-42e6-9012-d46a3705e35f"
      },
      "id": "jymBMgyhr5ui",
      "execution_count": null,
      "outputs": [
        {
          "output_type": "stream",
          "name": "stdout",
          "text": [
            "Digite uma string: serratec\n",
            "e\n",
            "a\n",
            "e\n"
          ]
        }
      ]
    },
    {
      "cell_type": "markdown",
      "id": "60f8b06d",
      "metadata": {
        "id": "60f8b06d"
      },
      "source": [
        "## Exercício 30: Crie um programa que peça 5 números e exiba apenas os números pares."
      ]
    },
    {
      "cell_type": "code",
      "source": [
        "numeros = [int(input(f\"Digite o {i + 1}º número: \")) for i in range(5)]\n",
        "numeros_pares = [num for num in numeros if num % 2 == 0]\n",
        "\n",
        "print(\"Os números pares são:\", numeros_pares)\n",
        "\n"
      ],
      "metadata": {
        "colab": {
          "base_uri": "https://localhost:8080/"
        },
        "id": "OddNouCRv2w-",
        "outputId": "b8b93fa6-c1dd-45b4-8e59-9d22cecc5e4e"
      },
      "id": "OddNouCRv2w-",
      "execution_count": null,
      "outputs": [
        {
          "output_type": "stream",
          "name": "stdout",
          "text": [
            "Digite o 1º número: 2\n",
            "Digite o 2º número: 2\n",
            "Digite o 3º número: 3\n",
            "Digite o 4º número: 5\n",
            "Digite o 5º número: 6\n",
            "Os números pares são: [2, 2, 6]\n"
          ]
        }
      ]
    },
    {
      "cell_type": "markdown",
      "id": "48c9a395",
      "metadata": {
        "id": "48c9a395"
      },
      "source": [
        "## Exercício 31: Percorra uma lista de frutas e imprima cada uma."
      ]
    },
    {
      "cell_type": "code",
      "source": [
        "\n",
        "frutas = [\"maçã\", \"banana\", \"laranja\", \"uva\", \"morango\"]\n",
        "for fruta in frutas:\n",
        "    print(fruta)"
      ],
      "metadata": {
        "colab": {
          "base_uri": "https://localhost:8080/"
        },
        "id": "ljilBbEB8kn_",
        "outputId": "d229b2e7-278b-4df4-d68e-ab5a6471c2d0"
      },
      "id": "ljilBbEB8kn_",
      "execution_count": null,
      "outputs": [
        {
          "output_type": "stream",
          "name": "stdout",
          "text": [
            "maçã\n",
            "banana\n",
            "laranja\n",
            "uva\n",
            "morango\n"
          ]
        }
      ]
    },
    {
      "cell_type": "markdown",
      "id": "adb57877",
      "metadata": {
        "id": "adb57877"
      },
      "source": [
        "## Exercício 32: Some todos os números de uma lista."
      ]
    },
    {
      "cell_type": "code",
      "source": [
        "# Usando a função sum(lista)\n",
        "numeros = [15, 15, 11, 9, 20, 35]\n",
        "soma_total = sum(numeros)\n",
        "print('O total é:', soma_total)\n"
      ],
      "metadata": {
        "colab": {
          "base_uri": "https://localhost:8080/"
        },
        "id": "5_jbZmcnndYS",
        "outputId": "807e96fb-fa61-4df6-803f-eb0bd33e0b6f"
      },
      "id": "5_jbZmcnndYS",
      "execution_count": null,
      "outputs": [
        {
          "output_type": "stream",
          "name": "stdout",
          "text": [
            "O total é: 105\n"
          ]
        }
      ]
    },
    {
      "cell_type": "markdown",
      "id": "03989ca7",
      "metadata": {
        "id": "03989ca7"
      },
      "source": [
        "## Exercício 33: Multiplique cada número de uma lista por 2 e imprima o resultado."
      ]
    },
    {
      "cell_type": "code",
      "source": [
        "# Utilizando list comprehension\n",
        "numeros = [13, 10, 11, 55, 40, 17]\n",
        "multiplicador = 2\n",
        "Resultado = [num * multiplicador for num in numeros]\n",
        "print(Resultado)"
      ],
      "metadata": {
        "colab": {
          "base_uri": "https://localhost:8080/"
        },
        "id": "eTEnn4gd4nJD",
        "outputId": "74a240f1-8502-41e1-f03b-20dc0719fb54"
      },
      "id": "eTEnn4gd4nJD",
      "execution_count": null,
      "outputs": [
        {
          "output_type": "stream",
          "name": "stdout",
          "text": [
            "[26, 20, 22, 110, 80, 34]\n"
          ]
        }
      ]
    },
    {
      "cell_type": "markdown",
      "id": "2f959625",
      "metadata": {
        "id": "2f959625"
      },
      "source": [
        "## Exercício 34: Conte quantas palavras existem em uma lista de palavras."
      ]
    },
    {
      "cell_type": "code",
      "source": [
        "# Utilizando a função len\n",
        "palavras = ['senac', 'info4', 'serratec', ]\n",
        "quantidade = len(palavras)\n",
        "print('Quantidade de palavras:'), quantidade"
      ],
      "metadata": {
        "colab": {
          "base_uri": "https://localhost:8080/"
        },
        "id": "o-EAA5G3J2IP",
        "outputId": "58e6cbe8-6906-466b-8377-8af25f0a9ce0"
      },
      "id": "o-EAA5G3J2IP",
      "execution_count": null,
      "outputs": [
        {
          "output_type": "stream",
          "name": "stdout",
          "text": [
            "Quantidade de palavras:\n"
          ]
        },
        {
          "output_type": "execute_result",
          "data": {
            "text/plain": [
              "(None, 3)"
            ]
          },
          "metadata": {},
          "execution_count": 6
        }
      ]
    },
    {
      "cell_type": "markdown",
      "id": "32331e7c",
      "metadata": {
        "id": "32331e7c"
      },
      "source": [
        "## Exercício 35: Imprima cada letra de uma palavra separadamente."
      ]
    },
    {
      "cell_type": "code",
      "source": [
        "# Utilizando a função for e in\n",
        "palavra = 'senac'\n",
        "for letra in palavra:\n",
        "    print(letra)"
      ],
      "metadata": {
        "colab": {
          "base_uri": "https://localhost:8080/"
        },
        "id": "JlSsVJxyMWQJ",
        "outputId": "b8d4d528-bb84-4a14-91ec-831e4c95d7d9"
      },
      "id": "JlSsVJxyMWQJ",
      "execution_count": null,
      "outputs": [
        {
          "output_type": "stream",
          "name": "stdout",
          "text": [
            "s\n",
            "e\n",
            "n\n",
            "a\n",
            "c\n"
          ]
        }
      ]
    },
    {
      "cell_type": "markdown",
      "id": "88c43389",
      "metadata": {
        "id": "88c43389"
      },
      "source": [
        "## Exercício 36: Crie uma lista com 5 números e imprima o maior."
      ]
    },
    {
      "cell_type": "code",
      "source": [
        "# Utilizando a função max\n",
        "num = [100, 40, 90, 150, 290]\n",
        "print('O maior é:', max(num))\n"
      ],
      "metadata": {
        "colab": {
          "base_uri": "https://localhost:8080/"
        },
        "id": "HLe8c_7_OdOs",
        "outputId": "1113209f-cb1b-4889-af63-dcd0eb720f28"
      },
      "id": "HLe8c_7_OdOs",
      "execution_count": null,
      "outputs": [
        {
          "output_type": "stream",
          "name": "stdout",
          "text": [
            "O maior é: 290\n"
          ]
        }
      ]
    },
    {
      "cell_type": "markdown",
      "id": "cefe2b8d",
      "metadata": {
        "id": "cefe2b8d"
      },
      "source": [
        "## Exercício 37: Crie uma lista e inverta a ordem dos elementos."
      ]
    },
    {
      "cell_type": "code",
      "source": [
        "# Utilizando a função fatiamento(pode não eliminar a lista original)\n",
        "palavras = ['Petrópolis', 'Rio', 'Recife', 'Porto Alegre']\n",
        "invertida = palavras[::-1]\n",
        "print(invertida)"
      ],
      "metadata": {
        "colab": {
          "base_uri": "https://localhost:8080/"
        },
        "id": "r-OqYdnuXmWP",
        "outputId": "47e58e70-e12c-4219-cd1e-d077b210e395"
      },
      "id": "r-OqYdnuXmWP",
      "execution_count": null,
      "outputs": [
        {
          "output_type": "stream",
          "name": "stdout",
          "text": [
            "['Porto Alegre', 'Recife', 'Rio', 'Petrópolis']\n"
          ]
        }
      ]
    },
    {
      "cell_type": "code",
      "source": [
        "# Utilizando a função reverse(elimina a lista original)\n",
        "palavras = ['Petrópolis', 'Rio', 'Recife', 'Porto Alegre']\n",
        "palavras.reverse()\n",
        "print(palavras)\n",
        "\n",
        "\n",
        "\n"
      ],
      "metadata": {
        "colab": {
          "base_uri": "https://localhost:8080/"
        },
        "id": "nAEO2KPFZwgc",
        "outputId": "18cacfda-2792-411e-cd29-d797589d5317"
      },
      "id": "nAEO2KPFZwgc",
      "execution_count": null,
      "outputs": [
        {
          "output_type": "stream",
          "name": "stdout",
          "text": [
            "['Porto Alegre', 'Recife', 'Rio', 'Petrópolis']\n"
          ]
        }
      ]
    },
    {
      "cell_type": "markdown",
      "id": "6f090c30",
      "metadata": {
        "id": "6f090c30"
      },
      "source": [
        "## Exercício 38: Crie uma lista com 5 nomes e remova o último nome."
      ]
    },
    {
      "cell_type": "code",
      "source": [
        "# Utilizando a função fatiamento\n",
        "nomes = ['Caio', 'Paulo', 'Izabel', 'Anderson', 'Beto']\n",
        "print(nomes[0:3])\n",
        "\n",
        "\n"
      ],
      "metadata": {
        "colab": {
          "base_uri": "https://localhost:8080/"
        },
        "id": "cR9oWlc6cUsA",
        "outputId": "33bc0621-466e-4df1-be9d-595434088e17"
      },
      "id": "cR9oWlc6cUsA",
      "execution_count": null,
      "outputs": [
        {
          "output_type": "stream",
          "name": "stdout",
          "text": [
            "['Caio', 'Paulo', 'Izabel']\n"
          ]
        }
      ]
    },
    {
      "cell_type": "markdown",
      "id": "494fdd4f",
      "metadata": {
        "id": "494fdd4f"
      },
      "source": [
        "## Exercício 39: Ordene uma lista de números."
      ]
    },
    {
      "cell_type": "code",
      "source": [
        "# Utilizando a função .sort\n",
        "numeros = [11, 23, 10, 22, 20, 17, 19, 18, 21]\n",
        "numeros.sort()\n",
        "print('Lista ordenada:', numeros)\n",
        "\n",
        "\n"
      ],
      "metadata": {
        "colab": {
          "base_uri": "https://localhost:8080/"
        },
        "id": "a82sE0RQfKIP",
        "outputId": "b16d131e-e145-4739-cf6e-76947d45fdef"
      },
      "id": "a82sE0RQfKIP",
      "execution_count": null,
      "outputs": [
        {
          "output_type": "stream",
          "name": "stdout",
          "text": [
            "Lista ordenada: [10, 11, 17, 18, 19, 20, 21, 22, 23]\n"
          ]
        }
      ]
    },
    {
      "cell_type": "markdown",
      "source": [],
      "metadata": {
        "id": "7Cd2XpGYhBNh"
      },
      "id": "7Cd2XpGYhBNh"
    },
    {
      "cell_type": "markdown",
      "id": "becf6860",
      "metadata": {
        "id": "becf6860"
      },
      "source": [
        "## Exercício 40: Crie uma lista com 5 números e exiba apenas os pares."
      ]
    },
    {
      "cell_type": "code",
      "source": [
        "# Utilizando a função for, if\n",
        "lista = [15, 23, 42, 29, 3]\n",
        "for numero in lista:\n",
        "  if numero % 2 == 0:\n",
        "    print(numero)\n"
      ],
      "metadata": {
        "colab": {
          "base_uri": "https://localhost:8080/"
        },
        "id": "-I7rdpJlQ4FV",
        "outputId": "e568663b-fe00-4fd5-f18d-d066fc491faf"
      },
      "id": "-I7rdpJlQ4FV",
      "execution_count": null,
      "outputs": [
        {
          "output_type": "stream",
          "name": "stdout",
          "text": [
            "42\n"
          ]
        }
      ]
    },
    {
      "cell_type": "markdown",
      "id": "1be545d4",
      "metadata": {
        "id": "1be545d4"
      },
      "source": [
        "## Exercício 41: Crie uma lista e adicione um novo elemento no final."
      ]
    },
    {
      "cell_type": "code",
      "source": [
        "#Utilizando a função .append\n",
        "lista = [ 'copo', 'faca', 'colher', 'garfo']\n",
        "lista.append('prato')\n",
        "print(lista)\n"
      ],
      "metadata": {
        "colab": {
          "base_uri": "https://localhost:8080/"
        },
        "id": "WuSNJA0DT5UO",
        "outputId": "0ef83546-e31e-4e32-f64e-55bec4ef6759"
      },
      "id": "WuSNJA0DT5UO",
      "execution_count": null,
      "outputs": [
        {
          "output_type": "stream",
          "name": "stdout",
          "text": [
            "['copo', 'faca', 'colher', 'garfo', 'prato']\n"
          ]
        }
      ]
    },
    {
      "cell_type": "markdown",
      "id": "e5f49687",
      "metadata": {
        "id": "e5f49687"
      },
      "source": [
        "## Exercício 42: Verifique se um número existe dentro de uma lista."
      ]
    },
    {
      "cell_type": "code",
      "source": [
        "lista = [11, 27, 29, 41, 59]\n",
        "num = int(input('Digite um número: '))\n",
        "\n",
        "if num in lista:\n",
        "    print('O número está na lista.')\n",
        "else:\n",
        "    print('O número não está na lista.')\n",
        "\n",
        "\n",
        "\n",
        "\n",
        "\n"
      ],
      "metadata": {
        "colab": {
          "base_uri": "https://localhost:8080/"
        },
        "id": "aT58KhKBcv8F",
        "outputId": "281a9662-3153-4f7e-89b3-20154a8e8f1d"
      },
      "id": "aT58KhKBcv8F",
      "execution_count": null,
      "outputs": [
        {
          "output_type": "stream",
          "name": "stdout",
          "text": [
            "Digite um número: 11\n",
            "O número está na lista.\n"
          ]
        }
      ]
    },
    {
      "cell_type": "markdown",
      "id": "c7126906",
      "metadata": {
        "id": "c7126906"
      },
      "source": [
        "## Exercício 43: Crie uma lista de números e calcule a média."
      ]
    },
    {
      "cell_type": "code",
      "source": [
        "numeros = [40, 10, 30, 10]\n",
        "media = sum(numeros) / len(numeros)\n",
        "print('Média dos números')\n",
        "print(media)\n",
        "\n"
      ],
      "metadata": {
        "colab": {
          "base_uri": "https://localhost:8080/"
        },
        "id": "PGZ_varWlJe7",
        "outputId": "438a23fa-521a-4944-81dc-a9d2781c5a92"
      },
      "id": "PGZ_varWlJe7",
      "execution_count": null,
      "outputs": [
        {
          "output_type": "stream",
          "name": "stdout",
          "text": [
            "Média dos números\n",
            "22.5\n"
          ]
        }
      ]
    },
    {
      "cell_type": "markdown",
      "id": "b3d38297",
      "metadata": {
        "id": "b3d38297"
      },
      "source": [
        "## Exercício 44: Crie uma lista de nomes e converta todos para maiúsculas."
      ]
    },
    {
      "cell_type": "code",
      "source": [
        "# Utilizando a função .upper\n",
        "nomes = [\"Paulo\", \"Caio\", \"Izabel\", \"Anderson\"]\n",
        "nomes_maiusculos = [nome.upper() for nome in nomes]\n",
        "print(nomes_maiusculos)\n"
      ],
      "metadata": {
        "colab": {
          "base_uri": "https://localhost:8080/"
        },
        "id": "uGgHe_UBwDab",
        "outputId": "d14f32f1-962e-4b54-93be-518564481a84"
      },
      "id": "uGgHe_UBwDab",
      "execution_count": null,
      "outputs": [
        {
          "output_type": "stream",
          "name": "stdout",
          "text": [
            "['PAULO', 'CAIO', 'IZABEL', 'ANDERSON']\n"
          ]
        }
      ]
    },
    {
      "cell_type": "markdown",
      "id": "7217ec03",
      "metadata": {
        "id": "7217ec03"
      },
      "source": [
        "## Exercício 45: Crie uma lista de números e remova os duplicados."
      ]
    },
    {
      "cell_type": "code",
      "source": [
        "# Utilizando a função set()\n",
        "numeros = [15, 21, 35, 45, 15, 45, 21, 119, 22]\n",
        "numeros_sem_duplicatas = list(set(numeros))\n",
        "print(numeros_sem_duplicatas)\n"
      ],
      "metadata": {
        "colab": {
          "base_uri": "https://localhost:8080/"
        },
        "id": "DDSEldiAxGdG",
        "outputId": "42186caa-b78c-4196-eee6-e38a723dd5de"
      },
      "id": "DDSEldiAxGdG",
      "execution_count": null,
      "outputs": [
        {
          "output_type": "stream",
          "name": "stdout",
          "text": [
            "[35, 45, 15, 21, 22, 119]\n"
          ]
        }
      ]
    },
    {
      "cell_type": "markdown",
      "id": "c508fdb6",
      "metadata": {
        "id": "c508fdb6"
      },
      "source": [
        "## Exercício 46: Crie um dicionário com nomes de alunos e suas notas e exiba a nota de um aluno específico."
      ]
    },
    {
      "cell_type": "code",
      "source": [
        "\n",
        "notas_alunos = {\n",
        "    \"Paulo\": 8.5,\n",
        "    \"Caio\": 9.0,\n",
        "    \"Izabel\": 7.2,\n",
        "    \"Isa\": 8.8}\n",
        "aluno = input(\"Digite o nome do aluno: \")\n",
        "nota = notas_alunos.get(aluno, \"Aluno não encontrado\")\n",
        "print(f\"A nota de {aluno} é: {nota}\")\n",
        "\n"
      ],
      "metadata": {
        "colab": {
          "base_uri": "https://localhost:8080/"
        },
        "id": "RPdwfU6dyVLZ",
        "outputId": "e93548aa-e929-4012-fb8b-13f4ff4930d5"
      },
      "id": "RPdwfU6dyVLZ",
      "execution_count": null,
      "outputs": [
        {
          "output_type": "stream",
          "name": "stdout",
          "text": [
            "Digite o nome do aluno: Caio\n",
            "A nota de Caio é: 9.0\n"
          ]
        }
      ]
    },
    {
      "cell_type": "markdown",
      "id": "0bfb53d7",
      "metadata": {
        "id": "0bfb53d7"
      },
      "source": [
        "## Exercício 47: Adicione um novo aluno e sua nota a um dicionário."
      ]
    },
    {
      "cell_type": "code",
      "source": [
        "\n",
        "notas_alunos = {\n",
        "    \"Paulo\": 8.5,\n",
        "    \"Caio\": 9.0,\n",
        "    \"Izabel\": 7.2}\n",
        "novo_aluno = input(\"Digite o nome do novo aluno: \")\n",
        "nova_nota = float(input(\"Digite a nota do aluno: \"))\n",
        "notas_alunos[novo_aluno] = nova_nota\n",
        "print(notas_alunos)\n",
        "\n"
      ],
      "metadata": {
        "colab": {
          "base_uri": "https://localhost:8080/"
        },
        "id": "92WOKcsS0Cyh",
        "outputId": "f44198f8-7c92-4e47-98d3-29ebdbb301ef"
      },
      "id": "92WOKcsS0Cyh",
      "execution_count": null,
      "outputs": [
        {
          "output_type": "stream",
          "name": "stdout",
          "text": [
            "Digite o nome do novo aluno: Isa\n",
            "Digite a nota do aluno: 8.8\n",
            "{'Paulo': 8.5, 'Caio': 9.0, 'Izabel': 7.2, 'Isa': 8.8}\n"
          ]
        }
      ]
    },
    {
      "cell_type": "markdown",
      "id": "366e0034",
      "metadata": {
        "id": "366e0034"
      },
      "source": [
        "## Exercício 48: Remova um aluno do dicionário."
      ]
    },
    {
      "cell_type": "code",
      "source": [
        "# Utilizando a função del\n",
        "notas_alunos = {\n",
        "    \"Paulo\": 8.5,\n",
        "    \"Caio\": 9.0,\n",
        "    \"Izabel\": 7.2}\n",
        "del notas_alunos[\"Paulo\"]\n",
        "print(notas_alunos)\n",
        "\n",
        "\n",
        "\n"
      ],
      "metadata": {
        "colab": {
          "base_uri": "https://localhost:8080/"
        },
        "id": "jc85LB-i1rhe",
        "outputId": "7afd3c14-22ee-42de-fd74-2a34c7faa33c"
      },
      "id": "jc85LB-i1rhe",
      "execution_count": null,
      "outputs": [
        {
          "output_type": "stream",
          "name": "stdout",
          "text": [
            "{'Caio': 9.0, 'Izabel': 7.2}\n"
          ]
        }
      ]
    },
    {
      "cell_type": "markdown",
      "id": "6dc1e9fa",
      "metadata": {
        "id": "6dc1e9fa"
      },
      "source": [
        "## Exercício 49: Percorra um dicionário e imprima suas chaves e valores."
      ]
    },
    {
      "cell_type": "code",
      "source": [
        "# Utilizando a função items()\n",
        "notas_alunos = {\n",
        "    \"Paulo\": 8.5,\n",
        "    \"Caio\": 9.0,\n",
        "    \"Izabel\": 7.2,\n",
        "    \"Isa\": 8.8}\n",
        "for aluno, nota in notas_alunos.items():\n",
        "    print(f\"Aluno: {aluno}, Nota: {nota}\")\n"
      ],
      "metadata": {
        "colab": {
          "base_uri": "https://localhost:8080/"
        },
        "id": "EMsXkOMl4GF7",
        "outputId": "d08c4059-e959-4ab6-887c-ecb43fdd1c01"
      },
      "id": "EMsXkOMl4GF7",
      "execution_count": null,
      "outputs": [
        {
          "output_type": "stream",
          "name": "stdout",
          "text": [
            "Aluno: Paulo, Nota: 8.5\n",
            "Aluno: Caio, Nota: 9.0\n",
            "Aluno: Izabel, Nota: 7.2\n",
            "Aluno: Isa, Nota: 8.8\n"
          ]
        }
      ]
    },
    {
      "cell_type": "markdown",
      "id": "5757f1ac",
      "metadata": {
        "id": "5757f1ac"
      },
      "source": [
        "## Exercício 50: Verifique se uma chave existe no dicionário."
      ]
    },
    {
      "cell_type": "code",
      "source": [
        "\n",
        "notas_alunos = {\n",
        "    \"Paulo\": 8.5,\n",
        "    \"Caio\": 9.0,\n",
        "    \"Izabel\": 7.2}\n",
        "aluno = input(\"Digite o nome do aluno: \")\n",
        "if aluno in notas_alunos:\n",
        "    print(f\"A nota de {aluno} é: {notas_alunos[aluno]}\")\n",
        "else:\n",
        "    print(\"Aluno não encontrado.\")\n",
        "\n",
        "\n"
      ],
      "metadata": {
        "colab": {
          "base_uri": "https://localhost:8080/"
        },
        "id": "PFcy5GrV5_Sp",
        "outputId": "5271588d-dad4-4f84-c9c8-d6c823acbd45"
      },
      "id": "PFcy5GrV5_Sp",
      "execution_count": null,
      "outputs": [
        {
          "output_type": "stream",
          "name": "stdout",
          "text": [
            "Digite o nome do aluno: Paulo\n",
            "A nota de Paulo é: 8.5\n"
          ]
        }
      ]
    }
  ],
  "metadata": {
    "colab": {
      "provenance": [],
      "collapsed_sections": [
        "7b6db2c9",
        "70afdbb7",
        "f0288374"
      ]
    },
    "language_info": {
      "name": "python"
    },
    "kernelspec": {
      "name": "python3",
      "display_name": "Python 3"
    }
  },
  "nbformat": 4,
  "nbformat_minor": 5
}